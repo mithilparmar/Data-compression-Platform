{
  "nbformat": 4,
  "nbformat_minor": 0,
  "metadata": {
    "colab": {
      "provenance": []
    },
    "kernelspec": {
      "name": "python3",
      "display_name": "Python 3"
    },
    "language_info": {
      "name": "python"
    }
  },
  "cells": [
    {
      "cell_type": "code",
      "execution_count": 1,
      "metadata": {
        "id": "rl6l48xoXa-H"
      },
      "outputs": [],
      "source": [
        "#importing required libraries\n",
        "import cv2\n",
        "import numpy as np\n",
        "from sklearn.decomposition import PCA\n",
        "from google.colab import drive\n",
        "import os"
      ]
    },
    {
      "cell_type": "code",
      "source": [
        "#mounting the google drive\n",
        "drive.mount(\"/content/drive/\")"
      ],
      "metadata": {
        "colab": {
          "base_uri": "https://localhost:8080/"
        },
        "id": "MnYcQlsrhSN9",
        "outputId": "95004cf6-929c-4b9a-f5b4-9ba3f429cf69"
      },
      "execution_count": 2,
      "outputs": [
        {
          "output_type": "stream",
          "name": "stdout",
          "text": [
            "Drive already mounted at /content/drive/; to attempt to forcibly remount, call drive.mount(\"/content/drive/\", force_remount=True).\n"
          ]
        }
      ]
    },
    {
      "cell_type": "code",
      "source": [
        "# Load video\n",
        "video = cv2.VideoCapture('/content/drive/My Drive/SEM 4/CMPE 295B Final Year Project/vp9_compressed_videos_Gaming_1080P-0ce6_cbr.webm')"
      ],
      "metadata": {
        "id": "ziWYE19FhGpF"
      },
      "execution_count": 3,
      "outputs": []
    },
    {
      "cell_type": "code",
      "source": [
        "# Get video properties\n",
        "fps = int(video.get(cv2.CAP_PROP_FPS))\n",
        "width = int(video.get(cv2.CAP_PROP_FRAME_WIDTH))\n",
        "height = int(video.get(cv2.CAP_PROP_FRAME_HEIGHT))\n",
        "num_frames = int(video.get(cv2.CAP_PROP_FRAME_COUNT))\n",
        "input_size = os.path.getsize('/content/drive/My Drive/SEM 4/CMPE 295B Final Year Project/vp9_compressed_videos_Gaming_1080P-0ce6_cbr.webm')"
      ],
      "metadata": {
        "id": "wEYCn2ZViLi_"
      },
      "execution_count": 4,
      "outputs": []
    },
    {
      "cell_type": "code",
      "source": [
        "print(fps, width, height, num_frames, input_size)"
      ],
      "metadata": {
        "colab": {
          "base_uri": "https://localhost:8080/"
        },
        "id": "W-vJKLKnsW9b",
        "outputId": "87394f7f-cf13-49f9-ed3c-858831557ffa"
      },
      "execution_count": 5,
      "outputs": [
        {
          "output_type": "stream",
          "name": "stdout",
          "text": [
            "30 1920 1080 599 8220384\n"
          ]
        }
      ]
    },
    {
      "cell_type": "code",
      "source": [
        "# Set new video resolution\n",
        "new_width = 960\n",
        "new_height = 540\n",
        "\n",
        "# Create VideoWriter object to write new video\n",
        "fourcc = cv2.VideoWriter_fourcc(*'mp4v')\n",
        "out = cv2.VideoWriter('/content/drive/My Drive/SEM 4/CMPE 295B Final Year Project/new_video.mp4', fourcc, fps, (new_width, new_height))\n",
        "\n",
        "# Loop over video frames\n",
        "while True:\n",
        "    # Read frame\n",
        "    ret, frame = video.read()\n",
        "    if not ret: break\n",
        "\n",
        "    # Resize frame\n",
        "    resized_frame = cv2.resize(frame, (new_width, new_height))\n",
        "\n",
        "    # Write resized frame to new video\n",
        "    out.write(resized_frame)\n",
        "\n",
        "# Release resources\n",
        "video.release()\n",
        "out.release()"
      ],
      "metadata": {
        "id": "8_8qlARnoMIn"
      },
      "execution_count": 6,
      "outputs": []
    },
    {
      "cell_type": "code",
      "source": [
        "# load the new video\n",
        "video = cv2.VideoCapture('/content/drive/My Drive/SEM 4/CMPE 295B Final Year Project/new_video.mp4')"
      ],
      "metadata": {
        "id": "IJt1jwOpo6Zu"
      },
      "execution_count": 7,
      "outputs": []
    },
    {
      "cell_type": "code",
      "source": [
        "# Get video properties\n",
        "fps = int(video.get(cv2.CAP_PROP_FPS))\n",
        "width = int(video.get(cv2.CAP_PROP_FRAME_WIDTH))\n",
        "height = int(video.get(cv2.CAP_PROP_FRAME_HEIGHT))\n",
        "num_frames = int(video.get(cv2.CAP_PROP_FRAME_COUNT))\n",
        "input_size = os.path.getsize('/content/drive/My Drive/SEM 4/CMPE 295B Final Year Project/new_video.mp4')"
      ],
      "metadata": {
        "id": "mdn1SJsxpBfo"
      },
      "execution_count": 8,
      "outputs": []
    },
    {
      "cell_type": "code",
      "source": [
        "print(fps, width, height, num_frames, input_size)"
      ],
      "metadata": {
        "colab": {
          "base_uri": "https://localhost:8080/"
        },
        "id": "QLF42FMLiLlS",
        "outputId": "d3b50e92-64d9-4e75-c7a8-6121b6a25577"
      },
      "execution_count": 9,
      "outputs": [
        {
          "output_type": "stream",
          "name": "stdout",
          "text": [
            "30 960 540 599 34613544\n"
          ]
        }
      ]
    },
    {
      "cell_type": "code",
      "source": [
        "# Loop over video frames\n",
        "flattened_frames = []\n",
        "for i in range(num_frames):\n",
        "    # Read frame\n",
        "    ret, frame = video.read()\n",
        "    if not ret: break\n",
        "\n",
        "    # Convert frame to grayscale\n",
        "    gray_frame = cv2.cvtColor(frame, cv2.COLOR_BGR2GRAY)\n",
        "\n",
        "    # Flatten frame into a 1D array\n",
        "    flattened_frame = gray_frame.flatten()\n",
        "\n",
        "    # Append compressed frame to output list\n",
        "    flattened_frames.append(flattened_frame)"
      ],
      "metadata": {
        "id": "v4vBqW1Di1t8"
      },
      "execution_count": 10,
      "outputs": []
    },
    {
      "cell_type": "code",
      "source": [
        "print(len(flattened_frames), flattened_frames[0].shape)"
      ],
      "metadata": {
        "colab": {
          "base_uri": "https://localhost:8080/"
        },
        "id": "wYlS8fn3nBWY",
        "outputId": "ae2440aa-4b13-4161-9f77-93791fd258ba"
      },
      "execution_count": 11,
      "outputs": [
        {
          "output_type": "stream",
          "name": "stdout",
          "text": [
            "599 (518400,)\n"
          ]
        }
      ]
    },
    {
      "cell_type": "code",
      "source": [
        "pca = PCA(n_components = 240)"
      ],
      "metadata": {
        "id": "TAjvEFPrm7_8"
      },
      "execution_count": 12,
      "outputs": []
    },
    {
      "cell_type": "code",
      "source": [
        "flattened_frames = np.array(flattened_frames)\n",
        "flattened_frames.shape"
      ],
      "metadata": {
        "colab": {
          "base_uri": "https://localhost:8080/"
        },
        "id": "XQ8j0Ywjjfrp",
        "outputId": "5c5e5e85-ca0c-4b52-b471-48aba672bc1f"
      },
      "execution_count": 13,
      "outputs": [
        {
          "output_type": "execute_result",
          "data": {
            "text/plain": [
              "(599, 518400)"
            ]
          },
          "metadata": {},
          "execution_count": 13
        }
      ]
    },
    {
      "cell_type": "code",
      "source": [
        "# Get size of each compressed frame\n",
        "compressed_frame_size = flattened_frames[0].nbytes\n",
        "total_compressed_size = compressed_frame_size * 599\n",
        "\n",
        "# Print compressed size\n",
        "print(f'Total compressed size: {total_compressed_size} bytes')"
      ],
      "metadata": {
        "colab": {
          "base_uri": "https://localhost:8080/"
        },
        "id": "jWEmFCA7zkMA",
        "outputId": "2377f1b6-d0f7-4a02-c90c-ee5c6107a516"
      },
      "execution_count": 14,
      "outputs": [
        {
          "output_type": "stream",
          "name": "stdout",
          "text": [
            "Total compressed size: 310521600 bytes\n"
          ]
        }
      ]
    },
    {
      "cell_type": "code",
      "source": [
        "flattened_frames = flattened_frames.T\n",
        "flattened_frames.shape"
      ],
      "metadata": {
        "colab": {
          "base_uri": "https://localhost:8080/"
        },
        "id": "PwEWNM94urOB",
        "outputId": "db90dd36-3604-4548-88fc-c924d032661a"
      },
      "execution_count": 15,
      "outputs": [
        {
          "output_type": "execute_result",
          "data": {
            "text/plain": [
              "(518400, 599)"
            ]
          },
          "metadata": {},
          "execution_count": 15
        }
      ]
    },
    {
      "cell_type": "code",
      "source": [
        "flattened_frames[0].shape"
      ],
      "metadata": {
        "colab": {
          "base_uri": "https://localhost:8080/"
        },
        "id": "BE2ujLbl1C6R",
        "outputId": "1e3434a2-d0e8-4e5b-bd6f-27239b96e740"
      },
      "execution_count": 16,
      "outputs": [
        {
          "output_type": "execute_result",
          "data": {
            "text/plain": [
              "(599,)"
            ]
          },
          "metadata": {},
          "execution_count": 16
        }
      ]
    },
    {
      "cell_type": "code",
      "source": [
        "flattened_frames = pca.fit_transform(flattened_frames)"
      ],
      "metadata": {
        "id": "sMUV2ks7nY20"
      },
      "execution_count": 17,
      "outputs": []
    },
    {
      "cell_type": "code",
      "source": [
        "flattened_frames.shape"
      ],
      "metadata": {
        "colab": {
          "base_uri": "https://localhost:8080/"
        },
        "id": "InxJYvw4qjGh",
        "outputId": "5053c755-47fe-432d-8e97-26de768aa60d"
      },
      "execution_count": 18,
      "outputs": [
        {
          "output_type": "execute_result",
          "data": {
            "text/plain": [
              "(518400, 240)"
            ]
          },
          "metadata": {},
          "execution_count": 18
        }
      ]
    },
    {
      "cell_type": "code",
      "source": [
        "# Get size of each compressed frame\n",
        "compressed_frame_size = flattened_frames.T[0].nbytes\n",
        "total_compressed_size = compressed_frame_size * 240\n",
        "\n",
        "# Print compressed size\n",
        "print(f'Total compressed size: {total_compressed_size} bytes')"
      ],
      "metadata": {
        "colab": {
          "base_uri": "https://localhost:8080/"
        },
        "id": "bSneY1Ftzgbq",
        "outputId": "cccd98b0-c0ec-448a-9728-f31c73798b94"
      },
      "execution_count": 19,
      "outputs": [
        {
          "output_type": "stream",
          "name": "stdout",
          "text": [
            "Total compressed size: 995328000 bytes\n"
          ]
        }
      ]
    },
    {
      "cell_type": "code",
      "source": [
        "reconstructed_frames = pca.inverse_transform(flattened_frames)"
      ],
      "metadata": {
        "id": "AafrXVtDrTAu"
      },
      "execution_count": 20,
      "outputs": []
    },
    {
      "cell_type": "code",
      "source": [
        "reconstructed_frames.shape"
      ],
      "metadata": {
        "colab": {
          "base_uri": "https://localhost:8080/"
        },
        "id": "_rSzhUrgvjrE",
        "outputId": "50db6c65-1f4e-4185-b6fb-1e216129a1be"
      },
      "execution_count": 21,
      "outputs": [
        {
          "output_type": "execute_result",
          "data": {
            "text/plain": [
              "(518400, 599)"
            ]
          },
          "metadata": {},
          "execution_count": 21
        }
      ]
    },
    {
      "cell_type": "code",
      "source": [
        "reconstructed_frames = reconstructed_frames.T\n",
        "reconstructed_frames.shape"
      ],
      "metadata": {
        "colab": {
          "base_uri": "https://localhost:8080/"
        },
        "id": "Yj90tznArWg6",
        "outputId": "373524b4-2487-4beb-eb4b-35355d3c1fa7"
      },
      "execution_count": 22,
      "outputs": [
        {
          "output_type": "execute_result",
          "data": {
            "text/plain": [
              "(599, 518400)"
            ]
          },
          "metadata": {},
          "execution_count": 22
        }
      ]
    },
    {
      "cell_type": "code",
      "source": [
        "reconstructed_frames[0]"
      ],
      "metadata": {
        "colab": {
          "base_uri": "https://localhost:8080/"
        },
        "id": "5zba9l2vv9qo",
        "outputId": "46e26a90-6287-46db-a3bd-8d371dc85dc5"
      },
      "execution_count": 23,
      "outputs": [
        {
          "output_type": "execute_result",
          "data": {
            "text/plain": [
              "array([98.38693712, 65.23388342, 39.28029883, ..., 90.71788597,\n",
              "       41.46189217, 40.56258719])"
            ]
          },
          "metadata": {},
          "execution_count": 23
        }
      ]
    },
    {
      "cell_type": "code",
      "source": [
        "reconstructed_frames_fixed = []\n",
        "for reconstructed_frame in reconstructed_frames:\n",
        "    \n",
        "    # Reshape frame into original shape\n",
        "    reconstructed_frame = reconstructed_frame.reshape((height, width))\n",
        "\n",
        "    # converting to float32\n",
        "    reconstructed_frame_float32 = np.float32(reconstructed_frame)\n",
        "    \n",
        "    # Convert frame to RGB\n",
        "    rgb_frame = cv2.cvtColor(reconstructed_frame_float32, cv2.COLOR_GRAY2BGR)\n",
        "\n",
        "    # Append reconstructed frame to output list\n",
        "    reconstructed_frames_fixed.append(reconstructed_frame)"
      ],
      "metadata": {
        "id": "bi0KnUHunvvM"
      },
      "execution_count": 24,
      "outputs": []
    },
    {
      "cell_type": "code",
      "source": [
        "print(len(reconstructed_frames_fixed), reconstructed_frames_fixed[0].shape)"
      ],
      "metadata": {
        "colab": {
          "base_uri": "https://localhost:8080/"
        },
        "id": "sH2Z-LSNxdFb",
        "outputId": "34f5143c-426b-4955-f63a-28ac7d73132a"
      },
      "execution_count": 25,
      "outputs": [
        {
          "output_type": "stream",
          "name": "stdout",
          "text": [
            "599 (540, 960)\n"
          ]
        }
      ]
    },
    {
      "cell_type": "code",
      "source": [
        "# Save reconstructed video\n",
        "fourcc = cv2.VideoWriter_fourcc(*'mp4v')\n",
        "out = cv2.VideoWriter('/content/drive/My Drive/SEM 4/CMPE 295B Final Year Project/reconstructed_video.mp4', fourcc, fps, (width, height))\n",
        "for frame in reconstructed_frames_fixed:\n",
        "    converted_frame = cv2.convertScaleAbs(frame)\n",
        "    out.write(converted_frame)\n",
        "out.release()"
      ],
      "metadata": {
        "id": "-CBeYTNPg7zR"
      },
      "execution_count": 26,
      "outputs": []
    },
    {
      "cell_type": "code",
      "source": [],
      "metadata": {
        "id": "IjSWAELeg72J"
      },
      "execution_count": 26,
      "outputs": []
    }
  ]
}